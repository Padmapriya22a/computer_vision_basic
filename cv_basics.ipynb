{
 "cells": [
  {
   "cell_type": "markdown",
   "metadata": {
    "id": "792ZzX7LF_4G"
   },
   "source": [
    "#*Image* cv2"
   ]
  },
  {
   "cell_type": "code",
   "execution_count": null,
   "metadata": {
    "id": "qGEvSUz2Fm4P"
   },
   "outputs": [],
   "source": [
    "#!pip install opencv-python"
   ]
  },
  {
   "cell_type": "code",
   "execution_count": 88,
   "metadata": {
    "executionInfo": {
     "elapsed": 670,
     "status": "ok",
     "timestamp": 1654591013078,
     "user": {
      "displayName": "padmapriya A",
      "userId": "14580646222981608945"
     },
     "user_tz": -330
    },
    "id": "PTfDrCGIFm4Q"
   },
   "outputs": [],
   "source": [
    "import cv2"
   ]
  },
  {
   "cell_type": "code",
   "execution_count": 89,
   "metadata": {},
   "outputs": [],
   "source": [
    "path='___.png'"
   ]
  },
  {
   "cell_type": "code",
   "execution_count": 90,
   "metadata": {
    "colab": {
     "base_uri": "https://localhost:8080/",
     "height": 35
    },
    "executionInfo": {
     "elapsed": 1062,
     "status": "ok",
     "timestamp": 1654584211297,
     "user": {
      "displayName": "padmapriya A",
      "userId": "14580646222981608945"
     },
     "user_tz": -330
    },
    "id": "uDa3b9JaFm4R",
    "outputId": "8c6400da-7268-44da-ee0e-84dc14e4df6d"
   },
   "outputs": [
    {
     "data": {
      "text/plain": [
       "' 0 denotes grayscale image\\n    1 denotes colored image\\n    -1 denotes no change in image'"
      ]
     },
     "execution_count": 90,
     "metadata": {},
     "output_type": "execute_result"
    }
   ],
   "source": [
    "img=cv2.imread(path,1) \n",
    "\n",
    "''' 0 denotes grayscale image\n",
    "    1 denotes colored image\n",
    "    -1 denotes no change in image'''"
   ]
  },
  {
   "cell_type": "code",
   "execution_count": 91,
   "metadata": {
    "colab": {
     "base_uri": "https://localhost:8080/"
    },
    "executionInfo": {
     "elapsed": 1045,
     "status": "ok",
     "timestamp": 1654584233395,
     "user": {
      "displayName": "padmapriya A",
      "userId": "14580646222981608945"
     },
     "user_tz": -330
    },
    "id": "rqLBZc6hFm4S",
    "outputId": "1a3ca7e9-5bd7-4f1e-ec95-d05070d054df"
   },
   "outputs": [
    {
     "name": "stdout",
     "output_type": "stream",
     "text": [
      "(543, 820, 3)\n",
      "[[[248 248 248]\n",
      "  [247 247 247]\n",
      "  [247 247 247]\n",
      "  ...\n",
      "  [247 247 247]\n",
      "  [247 247 247]\n",
      "  [247 247 247]]\n",
      "\n",
      " [[247 247 247]\n",
      "  [246 246 246]\n",
      "  [246 246 246]\n",
      "  ...\n",
      "  [246 246 246]\n",
      "  [246 246 246]\n",
      "  [247 247 247]]\n",
      "\n",
      " [[247 247 247]\n",
      "  [246 246 246]\n",
      "  [246 246 246]\n",
      "  ...\n",
      "  [246 246 246]\n",
      "  [246 246 246]\n",
      "  [247 247 247]]\n",
      "\n",
      " ...\n",
      "\n",
      " [[247 247 247]\n",
      "  [246 246 246]\n",
      "  [246 246 246]\n",
      "  ...\n",
      "  [246 246 246]\n",
      "  [246 246 246]\n",
      "  [247 247 247]]\n",
      "\n",
      " [[246 246 246]\n",
      "  [246 246 246]\n",
      "  [246 246 246]\n",
      "  ...\n",
      "  [246 246 246]\n",
      "  [246 246 246]\n",
      "  [247 247 247]]\n",
      "\n",
      " [[248 247 249]\n",
      "  [247 246 248]\n",
      "  [247 246 248]\n",
      "  ...\n",
      "  [247 247 247]\n",
      "  [247 247 247]\n",
      "  [247 247 247]]]\n"
     ]
    }
   ],
   "source": [
    "print(img.shape) # (Rows,Columns,Channels)\n",
    "print(img) "
   ]
  },
  {
   "cell_type": "code",
   "execution_count": 92,
   "metadata": {
    "colab": {
     "base_uri": "https://localhost:8080/",
     "height": 560
    },
    "executionInfo": {
     "elapsed": 2750,
     "status": "ok",
     "timestamp": 1654584236985,
     "user": {
      "displayName": "padmapriya A",
      "userId": "14580646222981608945"
     },
     "user_tz": -330
    },
    "id": "bxWA_d3yFm4U",
    "outputId": "ba59ba66-b181-4f78-d55e-f4f65c4322db"
   },
   "outputs": [],
   "source": [
    "cv2.imshow('image',img) # show the image in 'image' window\n",
    "cv2.waitKey(0) \n",
    "cv2.destroyAllWindows()\n"
   ]
  },
  {
   "cell_type": "code",
   "execution_count": 93,
   "metadata": {
    "colab": {
     "base_uri": "https://localhost:8080/",
     "height": 560
    },
    "executionInfo": {
     "elapsed": 2547,
     "status": "ok",
     "timestamp": 1654584282705,
     "user": {
      "displayName": "padmapriya A",
      "userId": "14580646222981608945"
     },
     "user_tz": -330
    },
    "id": "a3Ps8dUuH-YJ",
    "outputId": "2e3b52c7-0047-4bd6-93e6-fc7dddac0636"
   },
   "outputs": [],
   "source": [
    "cv2.imshow('image',img)\n",
    "k=cv2.waitKey(0) \n",
    "\n",
    "''' displays until one of the conditions are met since wait key is 0 otherwise displays for given duration'''\n",
    "\n",
    "if k==27:\n",
    "    cv2.destroyAllWindows() # if Esc key is pressed it destroys all the windows \n",
    "elif k==ord('c'):\n",
    "    cv2.imwrite('shrek_copy.png',img) # if c is pressed it makes a copy of the image \n",
    "    cv2.destroyAllWindows()"
   ]
  },
  {
   "cell_type": "code",
   "execution_count": 94,
   "metadata": {
    "colab": {
     "base_uri": "https://localhost:8080/",
     "height": 145
    },
    "executionInfo": {
     "elapsed": 962,
     "status": "ok",
     "timestamp": 1654584302220,
     "user": {
      "displayName": "padmapriya A",
      "userId": "14580646222981608945"
     },
     "user_tz": -330
    },
    "id": "lERyphjgNThI",
    "outputId": "a8f31d1b-c5aa-4ec4-958a-2348757a4821"
   },
   "outputs": [
    {
     "data": {
      "text/plain": [
       "True"
      ]
     },
     "execution_count": 94,
     "metadata": {},
     "output_type": "execute_result"
    }
   ],
   "source": [
    "#Generating a blank image using numpy\n",
    "\n",
    "import numpy as np\n",
    "img_blank=np.zeros((128,128,3),dtype='uint8')\n",
    "cv2.imshow('black',img_blank)\n",
    "cv2.waitKey(0) \n",
    "cv2.destroyAllWindows()\n",
    "cv2.imwrite('black_1.png',img_blank)"
   ]
  },
  {
   "cell_type": "markdown",
   "metadata": {
    "id": "25nl2oi_LO6N"
   },
   "source": [
    "DRAWING_FUNCTIONS"
   ]
  },
  {
   "cell_type": "code",
   "execution_count": 95,
   "metadata": {
    "colab": {
     "base_uri": "https://localhost:8080/",
     "height": 560
    },
    "executionInfo": {
     "elapsed": 2497,
     "status": "ok",
     "timestamp": 1654584327548,
     "user": {
      "displayName": "padmapriya A",
      "userId": "14580646222981608945"
     },
     "user_tz": -330
    },
    "id": "2DzDE9DZLIOy",
    "outputId": "9572472d-3776-4fac-fd36-43c9504dcff9"
   },
   "outputs": [
    {
     "data": {
      "text/plain": [
       "True"
      ]
     },
     "execution_count": 95,
     "metadata": {},
     "output_type": "execute_result"
    }
   ],
   "source": [
    "img=cv2.line(img,(0,0),(10,300),(50,230,255),6)\n",
    "cv2.imshow('image_line',img)\n",
    "cv2.waitKey(0) \n",
    "cv2.destroyAllWindows()\n",
    "cv2.imwrite('img_2.png',img)"
   ]
  },
  {
   "cell_type": "code",
   "execution_count": 96,
   "metadata": {
    "colab": {
     "base_uri": "https://localhost:8080/",
     "height": 145
    },
    "executionInfo": {
     "elapsed": 977,
     "status": "ok",
     "timestamp": 1654584647280,
     "user": {
      "displayName": "padmapriya A",
      "userId": "14580646222981608945"
     },
     "user_tz": -330
    },
    "id": "nSPJ-z1lLITr",
    "outputId": "a4b0b35d-414b-4814-96f0-829dfdbd0533"
   },
   "outputs": [
    {
     "data": {
      "text/plain": [
       "True"
      ]
     },
     "execution_count": 96,
     "metadata": {},
     "output_type": "execute_result"
    }
   ],
   "source": [
    "img_blank=cv2.circle(img_blank,(64,64),20,(0,100,255),-1)\n",
    "cv2.imshow('black_c',img_blank)\n",
    "cv2.waitKey(0) \n",
    "cv2.destroyAllWindows()\n",
    "cv2.imwrite('black_2.png',img_blank)"
   ]
  },
  {
   "cell_type": "code",
   "execution_count": 97,
   "metadata": {
    "colab": {
     "base_uri": "https://localhost:8080/",
     "height": 560
    },
    "executionInfo": {
     "elapsed": 1786,
     "status": "ok",
     "timestamp": 1654584766668,
     "user": {
      "displayName": "padmapriya A",
      "userId": "14580646222981608945"
     },
     "user_tz": -330
    },
    "id": "h-F0wvm8LIXS",
    "outputId": "b6c0d3ce-1a7d-468b-83da-03b7dd5249d0"
   },
   "outputs": [
    {
     "data": {
      "text/plain": [
       "True"
      ]
     },
     "execution_count": 97,
     "metadata": {},
     "output_type": "execute_result"
    }
   ],
   "source": [
    "font=cv2.FONT_HERSHEY_SIMPLEX\n",
    "img=cv2.imread(path,0)\n",
    "img=cv2.putText(img,'Hi, I am Shrek',(20,100),font,2,(0,0,255),5,cv2.LINE_AA)\n",
    "cv2.imshow('image_text',img)\n",
    "cv2.waitKey(0) \n",
    "cv2.destroyAllWindows()\n",
    "cv2.imwrite('img_3.png',img)"
   ]
  },
  {
   "cell_type": "code",
   "execution_count": 98,
   "metadata": {
    "colab": {
     "base_uri": "https://localhost:8080/",
     "height": 180
    },
    "executionInfo": {
     "elapsed": 695,
     "status": "ok",
     "timestamp": 1654585013797,
     "user": {
      "displayName": "padmapriya A",
      "userId": "14580646222981608945"
     },
     "user_tz": -330
    },
    "id": "wMJDBTWNLIak",
    "outputId": "87ce2e86-b70d-454e-a5ab-43dbc9a49dd6"
   },
   "outputs": [
    {
     "data": {
      "text/plain": [
       "True"
      ]
     },
     "execution_count": 98,
     "metadata": {},
     "output_type": "execute_result"
    }
   ],
   "source": [
    "'''circular edge on image'''\n",
    "'''Equation of the circle => (x – h)2 + (y – k)2 = r2\n",
    "   Here centre is at origin so (h,k)=(0,0)\n",
    "   Therefore r=sqrt((x)2 + (y)2) '''\n",
    "\n",
    "img_blank=np.zeros((128,128,3),dtype='uint8')\n",
    "#cv2.imshow('black',img_blank)\n",
    "\n",
    "(centerY, centerX) = (img_blank.shape[0]//2, img_blank.shape[1]//2)\n",
    "\n",
    "# draw a circular edge around picture\n",
    "# set color at edge to white\n",
    "color = (255, 255, 255)  # white\n",
    "radius = round((centerY**2 + centerX ** 2) ** 0.5)  # radius from center to origin\n",
    "thickness = 25\n",
    "cv2.circle(img_blank, (centerX, centerY), radius, color, thickness)\n",
    "# display image\n",
    "cv2.imshow('black_ce',img_blank)\n",
    "cv2.waitKey(0) \n",
    "cv2.destroyAllWindows()\n",
    "cv2.imwrite('black_3.png',img_blank)"
   ]
  },
  {
   "cell_type": "code",
   "execution_count": 99,
   "metadata": {
    "colab": {
     "base_uri": "https://localhost:8080/",
     "height": 560
    },
    "executionInfo": {
     "elapsed": 2842,
     "status": "ok",
     "timestamp": 1654587064596,
     "user": {
      "displayName": "padmapriya A",
      "userId": "14580646222981608945"
     },
     "user_tz": -330
    },
    "id": "OZ5kDzAMZlR3",
    "outputId": "cb2a985a-aa2f-45f7-f3c1-c139a30ff0ab"
   },
   "outputs": [
    {
     "data": {
      "text/plain": [
       "True"
      ]
     },
     "execution_count": 99,
     "metadata": {},
     "output_type": "execute_result"
    }
   ],
   "source": [
    "img=cv2.imread(path,1)\n",
    "for r in range (10,200,10):\n",
    "   \n",
    "   img=cv2.circle(img,(390,264),r,(0,100,255),2,cv2.LINE_8)\n",
    "\n",
    "cv2.imshow('image_cc',img)\n",
    "cv2.waitKey(0) \n",
    "cv2.destroyAllWindows()\n",
    "cv2.imwrite('img_3.png',img)"
   ]
  },
  {
   "cell_type": "code",
   "execution_count": 100,
   "metadata": {
    "colab": {
     "base_uri": "https://localhost:8080/",
     "height": 529
    },
    "executionInfo": {
     "elapsed": 48,
     "status": "ok",
     "timestamp": 1654595626549,
     "user": {
      "displayName": "padmapriya A",
      "userId": "14580646222981608945"
     },
     "user_tz": -330
    },
    "id": "SEEviYRG-U3T",
    "outputId": "37fa77c2-c126-4b2b-aaf3-5621d18e4a55"
   },
   "outputs": [
    {
     "data": {
      "text/plain": [
       "True"
      ]
     },
     "execution_count": 100,
     "metadata": {},
     "output_type": "execute_result"
    }
   ],
   "source": [
    "\n",
    "img_blank=np.zeros((512,512,3),dtype='uint8')\n",
    "for r in range (1,1000):\n",
    "    rad=np.random.randint(1,5)\n",
    "    cenX=np.random.randint(0,500)\n",
    "    cenY=np.random.randint(0,300)\n",
    "    color = (np.random.randint(0,256),np.random.randint(0,200),np.random.randint(0,250))\n",
    "    img_blank=cv2.circle(img_blank,(cenX,cenY),rad,color,-1)\n",
    "for n in range (1,150):\n",
    "    rad=np.random.randint(10,100)\n",
    "    cenX=np.random.randint(0,500)\n",
    "    cenY=np.random.randint(300,500)\n",
    "    color = (np.random.randint(0,250),np.random.randint(50,256),np.random.randint(100,200))\n",
    "    img_blank=cv2.circle(img_blank,(cenX,cenY),rad,color,-1)\n",
    "img_blank=cv2.putText(img_blank,'-priya_creations',(350,500),cv2.FONT_HERSHEY_SCRIPT_COMPLEX,0.7,(0,0,0),1,cv2.LINE_AA)\n",
    "#cv2.imwrite('/content/drive/MyDrive/Colab Notebooks/CV2/img_gen.png',img_blank)\n",
    "cv2.imshow('image_gen',img_blank)\n",
    "cv2.waitKey(0) \n",
    "cv2.destroyAllWindows()\n",
    "cv2.imwrite('black_4.png',img_blank)"
   ]
  },
  {
   "cell_type": "markdown",
   "metadata": {
    "id": "aZQ7Jm3WmblF"
   },
   "source": [
    "MouseClickEvents"
   ]
  },
  {
   "cell_type": "code",
   "execution_count": 30,
   "metadata": {
    "colab": {
     "base_uri": "https://localhost:8080/"
    },
    "executionInfo": {
     "elapsed": 569,
     "status": "ok",
     "timestamp": 1654599950042,
     "user": {
      "displayName": "padmapriya A",
      "userId": "14580646222981608945"
     },
     "user_tz": -330
    },
    "id": "s2MdY00S-U62",
    "outputId": "e84ce8c3-2718-4411-d331-dde404cbff16"
   },
   "outputs": [
    {
     "name": "stdout",
     "output_type": "stream",
     "text": [
      "['EVENT_FLAG_ALTKEY', 'EVENT_FLAG_CTRLKEY', 'EVENT_FLAG_LBUTTON', 'EVENT_FLAG_MBUTTON', 'EVENT_FLAG_RBUTTON', 'EVENT_FLAG_SHIFTKEY', 'EVENT_LBUTTONDBLCLK', 'EVENT_LBUTTONDOWN', 'EVENT_LBUTTONUP', 'EVENT_MBUTTONDBLCLK', 'EVENT_MBUTTONDOWN', 'EVENT_MBUTTONUP', 'EVENT_MOUSEHWHEEL', 'EVENT_MOUSEMOVE', 'EVENT_MOUSEWHEEL', 'EVENT_RBUTTONDBLCLK', 'EVENT_RBUTTONDOWN', 'EVENT_RBUTTONUP']\n"
     ]
    }
   ],
   "source": [
    "events=[i for i in dir(cv2) if 'EVENT' in i ] # print all events in dir\n",
    "print(events)"
   ]
  },
  {
   "cell_type": "code",
   "execution_count": 105,
   "metadata": {
    "id": "tJGudGWq-U9g"
   },
   "outputs": [
    {
     "name": "stdout",
     "output_type": "stream",
     "text": [
      "123   70\n",
      "428   60\n",
      "(509, 283) (283, 285)\n"
     ]
    },
    {
     "data": {
      "text/plain": [
       "<function destroyAllWindows>"
      ]
     },
     "execution_count": 105,
     "metadata": {},
     "output_type": "execute_result"
    }
   ],
   "source": [
    "points=[]\n",
    "def click_event (event,x,y,flags,param):\n",
    "    if event==cv2.EVENT_LBUTTONDOWN: # print the coordinate x,y\n",
    "        print(x,' ',y)\n",
    "        cv2.putText(img,'('+str(x)+','+str(y)+')',(x,y),cv2.FONT_HERSHEY_SIMPLEX,0.5,(255,0,0),2)\n",
    "        cv2.imshow('co',img)\n",
    "        cv2.imwrite('img_4.png',img)\n",
    "    if event==cv2.EVENT_RBUTTONDOWN: # print BGR color of the coordinate x,y\n",
    "        b=img[x,y,0]\n",
    "        g=img[x,y,1]\n",
    "        r=img[x,y,2]\n",
    "        cv2.putText(img,str(b)+','+str(g)+','+str(r),(x,y),cv2.FONT_HERSHEY_SIMPLEX,0.5,(255,0,0),2)\n",
    "        cv2.imshow('co',img)\n",
    "        cv2.imwrite('img_5.png',img)\n",
    "        cimg=np.zeros((128,128,3),np.uint8)\n",
    "        cimg[:] = [b,g,r]\n",
    "        cv2.imshow('cimage',cimg)\n",
    "        cv2.imwrite('img_6.png',cimg)\n",
    "    if event==cv2.EVENT_RBUTTONDBLCLK:\n",
    "        \n",
    "        cv2.circle(img,(x,y),2,(255,245,150),-1)\n",
    "        #print(points)\n",
    "        points.append((x,y))\n",
    "        #print(points)\n",
    "        if len(points)>=2:\n",
    "            cv2.line(img,points[-1],points[-2],(255,245,150),5)\n",
    "            print(points[-1],points[-2])\n",
    "            cv2.imshow('co',img) \n",
    "            cv2.imwrite('img_7.png',img)\n",
    "img=cv2.imread(path,1)\n",
    "cv2.imshow('image',img)\n",
    "\n",
    "cv2.setMouseCallback('image',click_event)\n",
    "cv2.waitKey(0)\n",
    "cv2.destroyAllWindows\n"
   ]
  },
  {
   "cell_type": "code",
   "execution_count": null,
   "metadata": {},
   "outputs": [],
   "source": [
    "\n",
    "\n"
   ]
  },
  {
   "cell_type": "code",
   "execution_count": null,
   "metadata": {},
   "outputs": [],
   "source": []
  }
 ],
 "metadata": {
  "colab": {
   "collapsed_sections": [],
   "name": "cv.ipynb",
   "provenance": []
  },
  "kernelspec": {
   "display_name": "Python 3",
   "language": "python",
   "name": "python3"
  },
  "language_info": {
   "codemirror_mode": {
    "name": "ipython",
    "version": 3
   },
   "file_extension": ".py",
   "mimetype": "text/x-python",
   "name": "python",
   "nbconvert_exporter": "python",
   "pygments_lexer": "ipython3",
   "version": "3.7.4"
  }
 },
 "nbformat": 4,
 "nbformat_minor": 1
}
